{
 "cells": [
  {
   "cell_type": "markdown",
   "metadata": {},
   "source": [
    "## Epsilon Greedy"
   ]
  },
  {
   "cell_type": "code",
   "execution_count": null,
   "metadata": {},
   "outputs": [],
   "source": [
    "%run ./Experiment_EG_Setting1.ipynb\n",
    "%run ./Experiment_EG_Setting2.ipynb\n",
    "%run ./Experiment_EG_Setting3.ipynb\n",
    "%run ./Experiment_EG_Setting4.ipynb\n",
    "%run ./Experiment_EG_Setting5.ipynb"
   ]
  },
  {
   "cell_type": "markdown",
   "metadata": {},
   "source": [
    "## UCB"
   ]
  },
  {
   "cell_type": "code",
   "execution_count": null,
   "metadata": {},
   "outputs": [],
   "source": [
    "\n",
    "%run ./Experiment_UCB_Setting1.ipynb\n",
    "%run ./Experiment_UCB_Setting2.ipynb\n",
    "%run ./Experiment_UCB_Setting3.ipynb\n",
    "%run ./Experiment_UCB_Setting4.ipynb\n",
    "%run ./Experiment_UCB_Setting5.ipynb"
   ]
  },
  {
   "cell_type": "markdown",
   "metadata": {},
   "source": [
    "## Thompson Sampling"
   ]
  },
  {
   "cell_type": "code",
   "execution_count": null,
   "metadata": {},
   "outputs": [],
   "source": [
    "\n",
    "\n",
    "\n",
    "%run ./Experiment_TS_Setting1.ipynb\n",
    "%run ./Experiment_TS_Setting2.ipynb\n",
    "%run ./Experiment_TS_Setting3.ipynb\n",
    "%run ./Experiment_TS_Setting4.ipynb\n",
    "%run ./Experiment_TS_Setting5.ipynb"
   ]
  }
 ],
 "metadata": {
  "kernelspec": {
   "display_name": "Python 3",
   "language": "python",
   "name": "python3"
  },
  "language_info": {
   "codemirror_mode": {
    "name": "ipython",
    "version": 3
   },
   "file_extension": ".py",
   "mimetype": "text/x-python",
   "name": "python",
   "nbconvert_exporter": "python",
   "pygments_lexer": "ipython3",
   "version": "3.7.6"
  }
 },
 "nbformat": 4,
 "nbformat_minor": 4
}
