{
 "cells": [
  {
   "cell_type": "code",
   "execution_count": 1,
   "metadata": {},
   "outputs": [],
   "source": [
    "# Import Libraries\n",
    "import pandas as pd\n",
    "import numpy as np\n",
    "import matplotlib.pyplot as plt\n",
    "from scipy import special\n",
    "from sklearn.datasets import make_blobs\n",
    "import time\n",
    "import scipy.stats as stats"
   ]
  },
  {
   "cell_type": "code",
   "execution_count": 2,
   "metadata": {},
   "outputs": [],
   "source": [
    "# Set Parameters\n",
    "n_samples = 100\n",
    "num_bins = 20"
   ]
  },
  {
   "cell_type": "code",
   "execution_count": 3,
   "metadata": {},
   "outputs": [],
   "source": [
    "# Create uniform distribution\n",
    "def uniform_distribution(n_samples=n_samples, num_bins=num_bins, display = True, low=0., high=1.):\n",
    "    sample_uniform = (np.random.uniform(low,high,n_samples))\n",
    "    if display==True:\n",
    "        # Plot\n",
    "        fig, (ax1, ax2) = plt.subplots(1, 2, figsize=(12,5))\n",
    "        fig.suptitle('Uniform Distribution')\n",
    "        count, bins, ignored = ax1.hist(sample_uniform, num_bins, density=True)\n",
    "        ax1.plot(bins, np.ones_like(bins), linewidth=2, color='r')\n",
    "        ax2.plot(sample_uniform)\n",
    "    return sample_uniform"
   ]
  },
  {
   "cell_type": "code",
   "execution_count": 4,
   "metadata": {},
   "outputs": [],
   "source": [
    "def normal_distribution(n_samples=n_samples, num_bins=num_bins, display = True, mu=0., sigma=1.):\n",
    "    # Normal distribution\n",
    "    sample_normal = np.random.normal(mu, sigma, n_samples)\n",
    "    if display == True:\n",
    "        # Plot\n",
    "        fig, (ax1, ax2) = plt.subplots(1, 2, figsize=(12,5))\n",
    "        fig.suptitle('Normal Distribution')\n",
    "        count, bins, ignored = ax1.hist(sample_normal, num_bins, density=True)\n",
    "        ax1.plot(bins, 1/(sigma * np.sqrt(2 * np.pi)) *\n",
    "                       np.exp( - (bins - mu)**2 / (2 * sigma**2) ),\n",
    "                 linewidth=2, color='r')\n",
    "        ax2.plot(sample_normal)\n",
    "    return sample_normal"
   ]
  },
  {
   "cell_type": "code",
   "execution_count": 5,
   "metadata": {},
   "outputs": [],
   "source": [
    "def uniform_sorted_distribution(n_samples=n_samples, num_bins=num_bins, display = True, low=0., high=1.):\n",
    "    #Sorted Uniform distribution\n",
    "    sample_uniform_sorted = np.sort(np.random.uniform(low,high,n_samples))\n",
    "    if display == True:\n",
    "        #Plot\n",
    "        fig, (ax1, ax2) = plt.subplots(1, 2, figsize=(12,5))\n",
    "        fig.suptitle('Sorted Uniform Distribution')\n",
    "        count, bins, ignored = ax1.hist(sample_uniform_sorted, num_bins, density=True)\n",
    "        ax1.plot(bins, np.ones_like(bins), linewidth=2, color='r')\n",
    "        ax2.plot(sample_uniform_sorted)\n",
    "    return sample_uniform_sorted"
   ]
  },
  {
   "cell_type": "code",
   "execution_count": 6,
   "metadata": {},
   "outputs": [],
   "source": [
    "def uniform_reverse_sorted_distribution(n_samples=n_samples, num_bins=num_bins, display = True, low=0., high=1.):\n",
    "    # Reverse Sorted Uniform distribution\n",
    "    sample_uniform_reverse_sorted = np.sort(np.random.uniform(low,high,n_samples))[::-1]\n",
    "    if display == True:\n",
    "        # Plot\n",
    "        fig, (ax1, ax2) = plt.subplots(1, 2, figsize=(12,5))\n",
    "        fig.suptitle('Reverse Sorted Uniform Distribution')\n",
    "        count, bins, ignored = ax1.hist(sample_uniform_reverse_sorted, num_bins, density=True)\n",
    "        ax1.plot(bins, np.ones_like(bins), linewidth=2, color='r')\n",
    "        ax2.plot(sample_uniform_reverse_sorted)\n",
    "    return sample_uniform_reverse_sorted"
   ]
  },
  {
   "cell_type": "code",
   "execution_count": 7,
   "metadata": {},
   "outputs": [],
   "source": [
    "def uniform_nearly_sorted_distribution(n_samples=n_samples, num_bins=num_bins, display = True, low=0., high=1., mean_noise= 0., std_noice = 0.01):\n",
    "    # Nearly Uniform distribution\n",
    "    sample_uniform_nearly_sorted = np.sort(np.random.uniform(low,high,n_samples))\n",
    "    noise = np.random.normal(mean_noise,std_noice,n_samples)\n",
    "    sample_uniform_nearly_sorted = sample_uniform_nearly_sorted + noise\n",
    "    if display==True:\n",
    "        #Plot\n",
    "        fig, (ax1, ax2) = plt.subplots(1, 2, figsize=(12,5))\n",
    "        fig.suptitle('Nearly Sorted Uniform Distribution')\n",
    "        count, bins, ignored = ax1.hist(sample_uniform_nearly_sorted, num_bins, density=True)\n",
    "        ax1.plot(bins, np.ones_like(bins), linewidth=2, color='r')\n",
    "        ax2.plot(sample_uniform_nearly_sorted)\n",
    "    return sample_uniform_nearly_sorted"
   ]
  },
  {
   "cell_type": "code",
   "execution_count": 8,
   "metadata": {},
   "outputs": [],
   "source": [
    "def zipf_distribution(n_samples=n_samples, num_bins=num_bins, display = True, a=2.):\n",
    "    # ZipF Distribution\n",
    "    sample_zipf = np.random.zipf(a, n_samples)\n",
    "    if display==True:\n",
    "        # Plot\n",
    "        fig, (ax1, ax2) = plt.subplots(1, 2, figsize=(12,5))\n",
    "        fig.suptitle('ZipF Distribution')\n",
    "        count, bins, ignored = ax1.hist(sample_zipf[sample_zipf<50], 50, density=True)\n",
    "        x = np.arange(1., 50.)\n",
    "        y = x**(-a) / special.zetac(a)\n",
    "        ax1.plot(x, y/max(y), linewidth=2, color='r')\n",
    "        ax2.plot(sample_zipf)\n",
    "    return sample_zipf"
   ]
  },
  {
   "cell_type": "code",
   "execution_count": 9,
   "metadata": {},
   "outputs": [],
   "source": [
    "def create_df_distributions(n_samples=n_samples):\n",
    "    sample_uniform= uniform_distribution(display=False, n_samples=n_samples)\n",
    "    sample_normal = normal_distribution(display=False, n_samples=n_samples)\n",
    "    sample_uniform_sorted = uniform_sorted_distribution(display=False, n_samples=n_samples)\n",
    "    sample_uniform_reverse_sorted = uniform_reverse_sorted_distribution(display=False, n_samples=n_samples)\n",
    "    sample_uniform_nearly_sorted = uniform_nearly_sorted_distribution(display=False, n_samples=n_samples)\n",
    "    sample_zipf = zipf_distribution(display=False, n_samples=n_samples)\n",
    "    df_distribions = pd.DataFrame().astype(np.float64)\n",
    "    df_distribions[\"Uniform\"] = sample_uniform\n",
    "    df_distribions[\"Normal\"] = sample_normal\n",
    "    df_distribions[\"Uniform_Sorted\"] = sample_uniform_sorted\n",
    "    df_distribions[\"Uniform_Reverse_Sorted\"] = sample_uniform_reverse_sorted\n",
    "    df_distribions[\"Uniform_Nearly_Sorted\"] = sample_uniform_nearly_sorted\n",
    "    df_distribions[\"Zipf\"] = sample_zipf\n",
    "    return df_distribions"
   ]
  },
  {
   "cell_type": "code",
   "execution_count": 10,
   "metadata": {},
   "outputs": [],
   "source": [
    "def create_df_distribution(n_samples=n_samples, dist_type=\"Uniform\"):\n",
    "    df_distribion = pd.DataFrame().astype(np.float64)\n",
    "    if dist_type == \"Uniform\":\n",
    "        sample_uniform= uniform_distribution(display=False, n_samples=n_samples)\n",
    "        df_distribion[\"Uniform\"] = sample_uniform\n",
    "    if dist_type == \"Normal\":\n",
    "        sample_normal = normal_distribution(display=False, n_samples=n_samples)\n",
    "        df_distribion[\"Normal\"] = sample_normal\n",
    "    if dist_type == \"Uniform_Sorted\":\n",
    "        sample_uniform_sorted = uniform_sorted_distribution(display=False, n_samples=n_samples)\n",
    "        df_distribion[\"Uniform_Sorted\"] = sample_uniform_sorted\n",
    "    if dist_type == \"Uniform_Reverse_Sorted\":\n",
    "        sample_uniform_reverse_sorted = uniform_reverse_sorted_distribution(display=False, n_samples=n_samples)\n",
    "        df_distribion[\"Uniform_Reverse_Sorted\"] = sample_uniform_reverse_sorted\n",
    "    if dist_type == \"Uniform_Nearly_Sorted\":\n",
    "        sample_uniform_nearly_sorted = uniform_nearly_sorted_distribution(display=False, n_samples=n_samples)\n",
    "        df_distribion[\"Uniform_Nearly_Sorted\"] = sample_uniform_nearly_sorted\n",
    "    if dist_type == \"Zipf\":\n",
    "        sample_zipf = zipf_distribution(display=False, n_samples=n_samples)\n",
    "        df_distribion[\"Zipf\"] = sample_zipf\n",
    "    return df_distribion"
   ]
  },
  {
   "cell_type": "code",
   "execution_count": 11,
   "metadata": {},
   "outputs": [],
   "source": [
    "def evaluate_sorts(distribution=\"Uniform\", repetitions=100):\n",
    "    measures = pd.DataFrame().astype(np.float64)\n",
    "    for sorting_algorithm in [\"quicksort\", \"mergesort\", \"heapsort\"]:\n",
    "        algorithm_times = []\n",
    "        for i in range(repetitions):\n",
    "            df_distribions = create_df_distributions()\n",
    "            #print(df_distribions[\"Uniform\"].head(3)) # are the always different?\n",
    "            start_time = time.time()\n",
    "            df_distribions[distribution].sort_values(kind=sorting_algorithm)\n",
    "            exeuction_time = (time.time() - start_time)\n",
    "            algorithm_times.append(exeuction_time)\n",
    "        measures[sorting_algorithm] = algorithm_times\n",
    "        print(\"The time of\",sorting_algorithm, \"is\", np.mean(algorithm_times), \"seconds\")\n",
    "    return measures"
   ]
  },
  {
   "cell_type": "code",
   "execution_count": 12,
   "metadata": {},
   "outputs": [],
   "source": [
    "def calculate_stats(df_dist, sort_algo):\n",
    "    df_sort_algo = df_dist[sort_algo]\n",
    "    std_sort_algo = np.std(df_sort_algo) \n",
    "    mean_sort_algo = np.mean(df_sort_algo) \n",
    "    return df_sort_algo, std_sort_algo,mean_sort_algo\n",
    "\n",
    "def plot_runtimes(sort_dist, std_sort_algo, mean_sort_algo, title, algo):\n",
    "    # Plot\n",
    "    fig, (ax1, ax2) = plt.subplots(1, 2, figsize=(12,5))\n",
    "    fig.suptitle(title)\n",
    "    count, bins, ignored = ax1.hist(sort_dist, 10, density=True)\n",
    "    #ax1.plot(bins, 1/(std_sort_algo * np.sqrt(2 * np.pi)) *\n",
    "    #               np.exp( - (bins - mean_sort_algo)**2 / (2 * std_sort_algo**2) ),\n",
    "    #         linewidth=2, color='r')\n",
    "    ax2.plot(sort_dist)\n",
    "    print(\"Standard deviation for\", algo,  \"is: \", np.round(std_sort_algo,6))"
   ]
  },
  {
   "cell_type": "code",
   "execution_count": null,
   "metadata": {},
   "outputs": [],
   "source": []
  },
  {
   "cell_type": "code",
   "execution_count": null,
   "metadata": {},
   "outputs": [],
   "source": []
  },
  {
   "cell_type": "code",
   "execution_count": null,
   "metadata": {},
   "outputs": [],
   "source": []
  }
 ],
 "metadata": {
  "kernelspec": {
   "display_name": "master_env",
   "language": "python",
   "name": "master_env"
  },
  "language_info": {
   "codemirror_mode": {
    "name": "ipython",
    "version": 3
   },
   "file_extension": ".py",
   "mimetype": "text/x-python",
   "name": "python",
   "nbconvert_exporter": "python",
   "pygments_lexer": "ipython3",
   "version": "3.8.5"
  }
 },
 "nbformat": 4,
 "nbformat_minor": 4
}
