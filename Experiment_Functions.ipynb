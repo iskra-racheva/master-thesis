{
 "cells": [
  {
   "cell_type": "code",
   "execution_count": 1,
   "metadata": {},
   "outputs": [],
   "source": [
    "# Import Libraries\n",
    "import pandas as pd\n",
    "import numpy as np\n",
    "import matplotlib.pyplot as plt\n",
    "from scipy import special\n",
    "from sklearn.datasets import make_blobs\n",
    "import time\n",
    "import scipy.stats as stats\n",
    "from random import choice, shuffle\n",
    "from string import ascii_lowercase, digits\n",
    "from datetime import datetime\n",
    "import random\n",
    "import timeit\n",
    "from scipy.stats import beta\n",
    "from scipy.stats import betabinom, binom"
   ]
  },
  {
   "cell_type": "code",
   "execution_count": 2,
   "metadata": {},
   "outputs": [],
   "source": [
    "# Set Parameters\n",
    "n_samples = 10000\n",
    "num_bins = 20\n",
    "length_strings = 3\n",
    "p=0.5\n",
    "n_binomial = 100\n",
    "n_discrete = 10\n",
    "lambda_param = 4"
   ]
  },
  {
   "cell_type": "code",
   "execution_count": 3,
   "metadata": {},
   "outputs": [],
   "source": [
    "def plot_distribution(dist, n_samples, title, num_bins):\n",
    "    weights = np.ones_like(dist)/float(len(dist))\n",
    "    fig, (ax1, ax2) = plt.subplots(1, 2, figsize=(16,6))\n",
    "    fig.suptitle(title,fontsize=20)\n",
    "    count, bins, ignored = ax1.hist(dist, num_bins, weights=weights)\n",
    "    #ax1.plot(bins, np.ones_like(bins), linewidth=2, color='r')\n",
    "    ax1.set_title('Probability Distribution',fontsize=18)\n",
    "    ax1.set_ylabel('Frequency',fontsize=16)\n",
    "    ax1.set_xlabel('Value',fontsize=16)\n",
    "    plt.setp(ax1.get_yticklabels(), fontsize=14)\n",
    "    plt.setp(ax1.get_xticklabels(), fontsize=14)\n",
    "    y = np.arange(0,n_samples)\n",
    "    ax2.scatter(y,dist,s=10)\n",
    "    ax2.set_title('Sample Values',fontsize=18)\n",
    "    ax2.set_ylabel('Sample Value',fontsize=16)\n",
    "    ax2.set_xlabel('Sample Number',fontsize=16)\n",
    "    plt.setp(ax2.get_xticklabels(), fontsize=14)\n",
    "    plt.setp(ax2.get_yticklabels(), fontsize=14)"
   ]
  },
  {
   "cell_type": "code",
   "execution_count": 5,
   "metadata": {},
   "outputs": [],
   "source": [
    "def poission_distribution(n_samples=n_samples, lambda_param=lambda_param, display = True):\n",
    "    poission =  np.random.poisson(lambda_param, n_samples)\n",
    "    if display==True:\n",
    "        plot_distribution(poission, n_samples, \"Poisson Distribution\",15)\n",
    "    return poission"
   ]
  },
  {
   "cell_type": "code",
   "execution_count": 6,
   "metadata": {},
   "outputs": [],
   "source": [
    "def discrete_binomial_distribution(n_samples=n_samples, p=p, n=n_binomial, display = True):\n",
    "    discrete_binomial_distribution = binom.rvs(n, p, size=n_samples)\n",
    "    if display==True:\n",
    "        plot_distribution(discrete_binomial_distribution, n_samples, \"Discrete Binomial Distribution\", num_bins)\n",
    "        \n",
    "    return discrete_binomial_distribution"
   ]
  },
  {
   "cell_type": "code",
   "execution_count": 7,
   "metadata": {},
   "outputs": [],
   "source": [
    "def discrete_uniform_distribution(n_samples=n_samples, n=n_discrete, display = True):\n",
    "    discrete_uniform_distribution = np.random.randint(n, size=n_samples)\n",
    "    \n",
    "    if display == True:\n",
    "        plot_distribution(discrete_uniform_distribution, n_samples, \"Discrete Uniform Distribution\", num_bins)\n",
    "        \n",
    "    return discrete_uniform_distribution"
   ]
  },
  {
   "cell_type": "code",
   "execution_count": 8,
   "metadata": {},
   "outputs": [],
   "source": [
    "def create_dates(n_samples=n_samples):\n",
    "    sample_dates = pd.date_range(end = datetime.today(), periods = n_samples).to_pydatetime().tolist()\n",
    "    shuffle(sample_dates)\n",
    "    return sample_dates"
   ]
  },
  {
   "cell_type": "code",
   "execution_count": 9,
   "metadata": {},
   "outputs": [],
   "source": [
    "def create_strings(n_samples=n_samples, length_strings=length_strings):\n",
    "    chars = ascii_lowercase + digits\n",
    "    sample_strings = [''.join(choice(chars) for _ in range(length_strings)) for _ in range(n_samples)]\n",
    "    #print(lst)\n",
    "    return sample_strings"
   ]
  },
  {
   "cell_type": "code",
   "execution_count": 10,
   "metadata": {},
   "outputs": [],
   "source": [
    "# Create uniform distribution\n",
    "def uniform_distribution(n_samples=n_samples, num_bins=num_bins, display = True, low=0., high=1.):\n",
    "    sample_uniform = (np.random.uniform(low,high,n_samples))\n",
    "    if display==True:\n",
    "        plot_distribution(sample_uniform, n_samples, \"Continuous Uniform Distribution\", num_bins)\n",
    "    return sample_uniform\n"
   ]
  },
  {
   "cell_type": "code",
   "execution_count": 12,
   "metadata": {},
   "outputs": [],
   "source": [
    "def normal_distribution(n_samples=n_samples, num_bins=num_bins, display = True, mu=0., sigma=1.):\n",
    "    # Normal distribution\n",
    "    sample_normal = np.random.normal(mu, sigma, n_samples)\n",
    "    if display == True:\n",
    "        plot_distribution(sample_normal, n_samples, \"Normal Distribution\", num_bins)\n",
    "    return sample_normal"
   ]
  },
  {
   "cell_type": "code",
   "execution_count": 13,
   "metadata": {},
   "outputs": [],
   "source": [
    "def uniform_sorted_distribution(n_samples=n_samples, num_bins=num_bins, display = True, low=0., high=1.):\n",
    "    #Sorted Uniform distribution\n",
    "    sample_uniform_sorted = np.sort(np.random.uniform(low,high,n_samples))\n",
    "    if display == True:\n",
    "        plot_distribution(sample_uniform_sorted, n_samples, \"Sorted Continuous Uniform Distribution\", num_bins)\n",
    "    return sample_uniform_sorted"
   ]
  },
  {
   "cell_type": "code",
   "execution_count": 14,
   "metadata": {},
   "outputs": [],
   "source": [
    "def uniform_reverse_sorted_distribution(n_samples=n_samples, num_bins=num_bins, display = True, low=0., high=1.):\n",
    "    # Reverse Sorted Uniform distribution\n",
    "    sample_uniform_reverse_sorted = np.sort(np.random.uniform(low,high,n_samples))[::-1]\n",
    "    if display == True:\n",
    "        plot_distribution(sample_uniform_reverse_sorted, n_samples, \"Reverse Sorted Continuous Uniform Distribution\", num_bins)\n",
    "    return sample_uniform_reverse_sorted"
   ]
  },
  {
   "cell_type": "code",
   "execution_count": 15,
   "metadata": {},
   "outputs": [],
   "source": [
    "def uniform_nearly_sorted_distribution(n_samples=n_samples, num_bins=num_bins, display = True, low=0., high=1., mean_noise= 0., std_noice = 0.01):\n",
    "    # Nearly Uniform distribution\n",
    "    sample_uniform_nearly_sorted = np.sort(np.random.uniform(low,high,n_samples))\n",
    "    noise = np.random.normal(mean_noise,std_noice,n_samples)\n",
    "    sample_uniform_nearly_sorted = sample_uniform_nearly_sorted + noise\n",
    "    if display==True:\n",
    "        plot_distribution(sample_uniform_nearly_sorted, n_samples, \"Nearly Sorted Continuous Uniform Distribution\", num_bins)\n",
    "    return sample_uniform_nearly_sorted"
   ]
  },
  {
   "cell_type": "code",
   "execution_count": 16,
   "metadata": {},
   "outputs": [],
   "source": [
    "def zipf_distribution(n_samples=n_samples, num_bins=num_bins, display = True, a=2.):\n",
    "    # ZipF Distribution\n",
    "    sample_zipf = np.random.zipf(a, n_samples)\n",
    "    if display==True:\n",
    "        # Plot\n",
    "        \n",
    "        weights = np.ones_like(sample_zipf[sample_zipf<50])/float(len(sample_zipf[sample_zipf<50]))\n",
    "        fig, (ax1, ax2) = plt.subplots(1, 2, figsize=(16,6))\n",
    "        fig.suptitle('Zipf Distribution')\n",
    "        count, bins, ignored = ax1.hist(sample_zipf[sample_zipf<50], 20, weights=weights)\n",
    "        #ax1.plot(bins, np.ones_like(bins), linewidth=2, color='r')\n",
    "        ax1.set_title('Probability Distribution',fontsize=18)\n",
    "        ax1.set_ylabel('Frequency',fontsize=16)\n",
    "        ax1.set_xlabel('Value',fontsize=16)\n",
    "        plt.setp(ax1.get_yticklabels(), fontsize=14)\n",
    "        plt.setp(ax1.get_xticklabels(), fontsize=14)\n",
    "        y = np.arange(0,n_samples)\n",
    "        ax2.scatter(y,sample_zipf,s=10)\n",
    "        ax2.set_title('Sample Values',fontsize=18)\n",
    "        ax2.set_ylabel('Sample Value',fontsize=16)\n",
    "        ax2.set_xlabel('Sample Number',fontsize=16)\n",
    "        plt.setp(ax2.get_xticklabels(), fontsize=14)\n",
    "        plt.setp(ax2.get_yticklabels(), fontsize=14)\n",
    "\n",
    "    return sample_zipf"
   ]
  },
  {
   "cell_type": "code",
   "execution_count": 9,
   "metadata": {},
   "outputs": [],
   "source": [
    "def create_df_distributions(n_samples=n_samples):\n",
    "    sample_uniform= uniform_distribution(display=False, n_samples=n_samples)\n",
    "    sample_normal = normal_distribution(display=False, n_samples=n_samples)\n",
    "    sample_uniform_sorted = uniform_sorted_distribution(display=False, n_samples=n_samples)\n",
    "    sample_uniform_reverse_sorted = uniform_reverse_sorted_distribution(display=False, n_samples=n_samples)\n",
    "    sample_uniform_nearly_sorted = uniform_nearly_sorted_distribution(display=False, n_samples=n_samples)\n",
    "    sample_zipf = zipf_distribution(display=False, n_samples=n_samples)\n",
    "    df_distribions = pd.DataFrame().astype(np.float64)\n",
    "    df_distribions[\"Uniform\"] = sample_uniform\n",
    "    df_distribions[\"Normal\"] = sample_normal\n",
    "    df_distribions[\"Uniform_Sorted\"] = sample_uniform_sorted\n",
    "    df_distribions[\"Uniform_Reverse_Sorted\"] = sample_uniform_reverse_sorted\n",
    "    df_distribions[\"Uniform_Nearly_Sorted\"] = sample_uniform_nearly_sorted\n",
    "    df_distribions[\"Zipf\"] = sample_zipf\n",
    "    return df_distribions"
   ]
  },
  {
   "cell_type": "code",
   "execution_count": 17,
   "metadata": {},
   "outputs": [],
   "source": [
    "def create_df_distribution(n_samples=n_samples, dist_type=\"Uniform\"):\n",
    "    df_distribion = pd.DataFrame().astype(np.float64)\n",
    "    if dist_type == \"Uniform\":\n",
    "        sample_uniform= uniform_distribution(display=False, n_samples=n_samples)\n",
    "        df_distribion[\"Uniform\"] = sample_uniform\n",
    "    if dist_type == \"Normal\":\n",
    "        sample_normal = normal_distribution(display=False, n_samples=n_samples)\n",
    "        df_distribion[\"Normal\"] = sample_normal\n",
    "    if dist_type == \"Uniform_Sorted\":\n",
    "        sample_uniform_sorted = uniform_sorted_distribution(display=False, n_samples=n_samples)\n",
    "        df_distribion[\"Uniform_Sorted\"] = sample_uniform_sorted\n",
    "    if dist_type == \"Uniform_Reverse_Sorted\":\n",
    "        sample_uniform_reverse_sorted = uniform_reverse_sorted_distribution(display=False, n_samples=n_samples)\n",
    "        df_distribion[\"Uniform_Reverse_Sorted\"] = sample_uniform_reverse_sorted\n",
    "    if dist_type == \"Uniform_Nearly_Sorted\":\n",
    "        sample_uniform_nearly_sorted = uniform_nearly_sorted_distribution(display=False, n_samples=n_samples)\n",
    "        df_distribion[\"Uniform_Nearly_Sorted\"] = sample_uniform_nearly_sorted\n",
    "    if dist_type == \"Zipf\":\n",
    "        sample_zipf = zipf_distribution(display=False, n_samples=n_samples)\n",
    "        df_distribion[\"Zipf\"] = sample_zipf\n",
    "    if dist_type == \"Dates\":\n",
    "        sample_dates = create_dates(n_samples=n_samples)\n",
    "        df_distribion[\"Dates\"] = sample_dates\n",
    "    if dist_type == \"Strings\":\n",
    "        sample_strings = create_strings(n_samples=n_samples)\n",
    "        df_distribion[\"Strings\"] = sample_strings\n",
    "    if dist_type == \"Discrete_Uniform\":\n",
    "        sample_discrete = discrete_uniform_distribution(n_samples=n_samples, n=n_discrete, display=False)\n",
    "        df_distribion[\"Discrete_Uniform\"] = sample_discrete\n",
    "    if dist_type == \"Discrete_Binomial\":\n",
    "        sample_bionmial = discrete_binomial_distribution(n_samples=n_samples, p=p, n=n_binomial, display=False)\n",
    "        df_distribion[\"Discrete_Binomial\"] = sample_bionmial\n",
    "    if dist_type == \"Poisson\":\n",
    "        poisson =  poission_distribution(n_samples=n_samples, lambda_param=lambda_param, display = False)\n",
    "        df_distribion[\"Poisson\"] = poisson\n",
    "              \n",
    "    return df_distribion"
   ]
  },
  {
   "cell_type": "code",
   "execution_count": 19,
   "metadata": {},
   "outputs": [],
   "source": [
    "def evaluate_sorts(distribution_type=\"Uniform\", second_col = None, repetitions=50):\n",
    "    if second_col == None:\n",
    "        measures = pd.DataFrame().astype(np.float64)\n",
    "        for i, sorting_algorithm in enumerate(choices):\n",
    "            algorithm_times = []\n",
    "            for n in range(repetitions):\n",
    "                distribion = create_df_distribution(n_samples=n_samples, dist_type=distribution_type)\n",
    "                start_time = time.perf_counter()\n",
    "                #sorted_df = distribion.sort_values([distribution_type],kind=sorting_algorithm)\n",
    "                sorted_df = sorting_algorithm(distribion, [distribution_type])\n",
    "                exeuction_time = (time.perf_counter() - start_time)\n",
    "                algorithm_times.append(exeuction_time)\n",
    "            measures[choices_names[i]] = algorithm_times\n",
    "            print(\"The time of\",choices_names[i], \"is\", np.mean(algorithm_times))\n",
    "            print(\"It has a STD of\", np.std(algorithm_times))\n",
    "    else:\n",
    "        measures = pd.DataFrame().astype(np.float64)\n",
    "        for i, sorting_algorithm in enumerate(choices):\n",
    "            algorithm_times = []\n",
    "            for n in range(repetitions):\n",
    "                distribion_1 = create_df_distribution(n_samples=n_samples, dist_type=distribution_type)\n",
    "                distribion_2 = create_df_distribution(n_samples=n_samples, dist_type=second_col)\n",
    "                df_distribions = pd.concat([distribion_1, distribion_2], axis=1)\n",
    "                #print(df_distribions)\n",
    "                start_time = time.perf_counter()\n",
    "                #sorted_df = df_distribions.sort_values([distribution_type, second_col],kind=sorting_algorithm)\n",
    "                sorted_df = sorting_algorithm(df_distribions, [distribution_type, second_col])\n",
    "                exeuction_time = (time.perf_counter() - start_time)\n",
    "                algorithm_times.append(exeuction_time)\n",
    "            measures[choices_names[i]] = algorithm_times\n",
    "            print(\"The time of\",choices_names[i], \"is\", np.mean(algorithm_times))\n",
    "            print(\"It has a STD of\", np.std(algorithm_times))\n",
    "    return measures"
   ]
  },
  {
   "cell_type": "code",
   "execution_count": 20,
   "metadata": {},
   "outputs": [],
   "source": [
    "def calculate_stats(df_dist, sort_algo):\n",
    "    df_sort_algo = df_dist[sort_algo]\n",
    "    std_sort_algo = np.std(df_sort_algo) \n",
    "    mean_sort_algo = np.mean(df_sort_algo) \n",
    "    return df_sort_algo, std_sort_algo,mean_sort_algo\n",
    "\n",
    "def plot_runtimes(sort_dist, std_sort_algo, mean_sort_algo,algo_name):\n",
    "    # Plot\n",
    "    fig, (ax1, ax2) = plt.subplots(1, 2, figsize=(12,5))\n",
    "    fig.suptitle(algo_name)\n",
    "    count, bins, ignored = ax1.hist(sort_dist, 20)\n",
    "    ax2.plot(sort_dist)\n",
    "    plt.show()\n",
    "def plot_runtimes_together(df, bins = 5,title=None):\n",
    "    weights_quicksort = np.ones_like(df[\"quicksort\"])/float(len(df[\"quicksort\"]))\n",
    "    weights_mergesort = np.ones_like(df[\"mergesort\"])/float(len(df[\"mergesort\"]))\n",
    "    weights_heapsort = np.ones_like(df[\"heapsort\"])/float(len(df[\"heapsort\"]))\n",
    "    plt.figure(figsize=(16,6))\n",
    "    plt.hist(df[\"quicksort\"], bins, alpha = 0.5, label='quick sort',weights=weights_quicksort)\n",
    "    plt.hist(df[\"mergesort\"], bins, alpha = 0.5, label='merge sort',weights=weights_mergesort)\n",
    "    plt.hist(df[\"heapsort\"], bins, alpha = 0.5, label='heap sort',weights=weights_heapsort)\n",
    "    plt.legend(loc='upper right',fontsize=26)\n",
    "    plt.title(title,fontsize=26)\n",
    "    plt.ylabel(\"Frequency\",fontsize=26)\n",
    "    plt.xlabel(\"Runtime in seconds\",fontsize=26)\n",
    "    plt.xticks(fontsize=26)\n",
    "    plt.yticks(fontsize=26)\n",
    "    plt.show()"
   ]
  },
  {
   "cell_type": "code",
   "execution_count": null,
   "metadata": {},
   "outputs": [],
   "source": []
  },
  {
   "cell_type": "code",
   "execution_count": null,
   "metadata": {},
   "outputs": [],
   "source": []
  },
  {
   "cell_type": "code",
   "execution_count": null,
   "metadata": {},
   "outputs": [],
   "source": []
  }
 ],
 "metadata": {
  "kernelspec": {
   "display_name": "Python 3",
   "language": "python",
   "name": "python3"
  },
  "language_info": {
   "codemirror_mode": {
    "name": "ipython",
    "version": 3
   },
   "file_extension": ".py",
   "mimetype": "text/x-python",
   "name": "python",
   "nbconvert_exporter": "python",
   "pygments_lexer": "ipython3",
   "version": "3.7.6"
  }
 },
 "nbformat": 4,
 "nbformat_minor": 4
}
